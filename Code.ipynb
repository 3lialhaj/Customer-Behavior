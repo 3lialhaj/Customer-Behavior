{
 "cells": [
  {
   "cell_type": "code",
   "execution_count": 1,
   "id": "f0729761",
   "metadata": {},
   "outputs": [],
   "source": [
    "import pandas as pd\n",
    "import numpy as np\n",
    "import matplotlib.pyplot as plt\n",
    "import seaborn as sns"
   ]
  },
  {
   "cell_type": "markdown",
   "id": "78278f8a",
   "metadata": {},
   "source": [
    "You can find the data here: https://www.kaggle.com/datasets/bhuviranga/customer-segmentation/data"
   ]
  },
  {
   "cell_type": "code",
   "execution_count": 2,
   "id": "f0497fbc",
   "metadata": {},
   "outputs": [
    {
     "data": {
      "text/html": [
       "<div>\n",
       "<style scoped>\n",
       "    .dataframe tbody tr th:only-of-type {\n",
       "        vertical-align: middle;\n",
       "    }\n",
       "\n",
       "    .dataframe tbody tr th {\n",
       "        vertical-align: top;\n",
       "    }\n",
       "\n",
       "    .dataframe thead th {\n",
       "        text-align: right;\n",
       "    }\n",
       "</style>\n",
       "<table border=\"1\" class=\"dataframe\">\n",
       "  <thead>\n",
       "    <tr style=\"text-align: right;\">\n",
       "      <th></th>\n",
       "      <th>Unnamed: 0</th>\n",
       "      <th>ID</th>\n",
       "      <th>Gender</th>\n",
       "      <th>Ever_Married</th>\n",
       "      <th>Age</th>\n",
       "      <th>Graduated</th>\n",
       "      <th>Profession</th>\n",
       "      <th>Work_Experience</th>\n",
       "      <th>Spending_Score</th>\n",
       "      <th>Family_Size</th>\n",
       "      <th>Var_1</th>\n",
       "      <th>Segmentation</th>\n",
       "    </tr>\n",
       "  </thead>\n",
       "  <tbody>\n",
       "    <tr>\n",
       "      <th>0</th>\n",
       "      <td>0</td>\n",
       "      <td>460394</td>\n",
       "      <td>Female</td>\n",
       "      <td>No</td>\n",
       "      <td>32</td>\n",
       "      <td>Yes</td>\n",
       "      <td>Healthcare</td>\n",
       "      <td>9.0</td>\n",
       "      <td>Low</td>\n",
       "      <td>3.0</td>\n",
       "      <td>Cat_6</td>\n",
       "      <td>D</td>\n",
       "    </tr>\n",
       "    <tr>\n",
       "      <th>1</th>\n",
       "      <td>1</td>\n",
       "      <td>461798</td>\n",
       "      <td>Female</td>\n",
       "      <td>No</td>\n",
       "      <td>56</td>\n",
       "      <td>Yes</td>\n",
       "      <td>Artist</td>\n",
       "      <td>0.0</td>\n",
       "      <td>Low</td>\n",
       "      <td>1.0</td>\n",
       "      <td>Cat_6</td>\n",
       "      <td>A</td>\n",
       "    </tr>\n",
       "    <tr>\n",
       "      <th>2</th>\n",
       "      <td>2</td>\n",
       "      <td>464976</td>\n",
       "      <td>Male</td>\n",
       "      <td>Yes</td>\n",
       "      <td>75</td>\n",
       "      <td>No</td>\n",
       "      <td>Lawyer</td>\n",
       "      <td>1.0</td>\n",
       "      <td>Low</td>\n",
       "      <td>1.0</td>\n",
       "      <td>Cat_4</td>\n",
       "      <td>D</td>\n",
       "    </tr>\n",
       "    <tr>\n",
       "      <th>3</th>\n",
       "      <td>3</td>\n",
       "      <td>462104</td>\n",
       "      <td>Male</td>\n",
       "      <td>Yes</td>\n",
       "      <td>39</td>\n",
       "      <td>No</td>\n",
       "      <td>Entertainment</td>\n",
       "      <td>9.0</td>\n",
       "      <td>Low</td>\n",
       "      <td>2.0</td>\n",
       "      <td>Cat_3</td>\n",
       "      <td>D</td>\n",
       "    </tr>\n",
       "    <tr>\n",
       "      <th>4</th>\n",
       "      <td>4</td>\n",
       "      <td>464829</td>\n",
       "      <td>Male</td>\n",
       "      <td>No</td>\n",
       "      <td>22</td>\n",
       "      <td>No</td>\n",
       "      <td>Healthcare</td>\n",
       "      <td>9.0</td>\n",
       "      <td>Low</td>\n",
       "      <td>5.0</td>\n",
       "      <td>Cat_4</td>\n",
       "      <td>D</td>\n",
       "    </tr>\n",
       "    <tr>\n",
       "      <th>5</th>\n",
       "      <td>5</td>\n",
       "      <td>464634</td>\n",
       "      <td>Female</td>\n",
       "      <td>No</td>\n",
       "      <td>32</td>\n",
       "      <td>Yes</td>\n",
       "      <td>Engineer</td>\n",
       "      <td>NaN</td>\n",
       "      <td>Low</td>\n",
       "      <td>9.0</td>\n",
       "      <td>Cat_4</td>\n",
       "      <td>D</td>\n",
       "    </tr>\n",
       "    <tr>\n",
       "      <th>6</th>\n",
       "      <td>6</td>\n",
       "      <td>467670</td>\n",
       "      <td>Male</td>\n",
       "      <td>No</td>\n",
       "      <td>25</td>\n",
       "      <td>No</td>\n",
       "      <td>Engineer</td>\n",
       "      <td>NaN</td>\n",
       "      <td>Low</td>\n",
       "      <td>3.0</td>\n",
       "      <td>Cat_6</td>\n",
       "      <td>A</td>\n",
       "    </tr>\n",
       "    <tr>\n",
       "      <th>7</th>\n",
       "      <td>7</td>\n",
       "      <td>462073</td>\n",
       "      <td>Female</td>\n",
       "      <td>No</td>\n",
       "      <td>36</td>\n",
       "      <td>Yes</td>\n",
       "      <td>Artist</td>\n",
       "      <td>6.0</td>\n",
       "      <td>Low</td>\n",
       "      <td>1.0</td>\n",
       "      <td>Cat_6</td>\n",
       "      <td>C</td>\n",
       "    </tr>\n",
       "    <tr>\n",
       "      <th>8</th>\n",
       "      <td>8</td>\n",
       "      <td>463611</td>\n",
       "      <td>Male</td>\n",
       "      <td>No</td>\n",
       "      <td>62</td>\n",
       "      <td>Yes</td>\n",
       "      <td>Artist</td>\n",
       "      <td>0.0</td>\n",
       "      <td>Low</td>\n",
       "      <td>NaN</td>\n",
       "      <td>Cat_6</td>\n",
       "      <td>A</td>\n",
       "    </tr>\n",
       "    <tr>\n",
       "      <th>9</th>\n",
       "      <td>9</td>\n",
       "      <td>460962</td>\n",
       "      <td>Male</td>\n",
       "      <td>Yes</td>\n",
       "      <td>55</td>\n",
       "      <td>Yes</td>\n",
       "      <td>Executive</td>\n",
       "      <td>9.0</td>\n",
       "      <td>High</td>\n",
       "      <td>4.0</td>\n",
       "      <td>Cat_6</td>\n",
       "      <td>C</td>\n",
       "    </tr>\n",
       "  </tbody>\n",
       "</table>\n",
       "</div>"
      ],
      "text/plain": [
       "   Unnamed: 0      ID  Gender Ever_Married  Age Graduated     Profession  \\\n",
       "0           0  460394  Female           No   32       Yes     Healthcare   \n",
       "1           1  461798  Female           No   56       Yes         Artist   \n",
       "2           2  464976    Male          Yes   75        No         Lawyer   \n",
       "3           3  462104    Male          Yes   39        No  Entertainment   \n",
       "4           4  464829    Male           No   22        No     Healthcare   \n",
       "5           5  464634  Female           No   32       Yes       Engineer   \n",
       "6           6  467670    Male           No   25        No       Engineer   \n",
       "7           7  462073  Female           No   36       Yes         Artist   \n",
       "8           8  463611    Male           No   62       Yes         Artist   \n",
       "9           9  460962    Male          Yes   55       Yes      Executive   \n",
       "\n",
       "   Work_Experience Spending_Score  Family_Size  Var_1 Segmentation  \n",
       "0              9.0            Low          3.0  Cat_6            D  \n",
       "1              0.0            Low          1.0  Cat_6            A  \n",
       "2              1.0            Low          1.0  Cat_4            D  \n",
       "3              9.0            Low          2.0  Cat_3            D  \n",
       "4              9.0            Low          5.0  Cat_4            D  \n",
       "5              NaN            Low          9.0  Cat_4            D  \n",
       "6              NaN            Low          3.0  Cat_6            A  \n",
       "7              6.0            Low          1.0  Cat_6            C  \n",
       "8              0.0            Low          NaN  Cat_6            A  \n",
       "9              9.0           High          4.0  Cat_6            C  "
      ]
     },
     "execution_count": 2,
     "metadata": {},
     "output_type": "execute_result"
    }
   ],
   "source": [
    "df = pd.read_csv(\"Customer Segmentation.csv\")\n",
    "df.head(10)"
   ]
  },
  {
   "cell_type": "code",
   "execution_count": 3,
   "id": "4ba127ba",
   "metadata": {},
   "outputs": [
    {
     "data": {
      "text/html": [
       "<div>\n",
       "<style scoped>\n",
       "    .dataframe tbody tr th:only-of-type {\n",
       "        vertical-align: middle;\n",
       "    }\n",
       "\n",
       "    .dataframe tbody tr th {\n",
       "        vertical-align: top;\n",
       "    }\n",
       "\n",
       "    .dataframe thead th {\n",
       "        text-align: right;\n",
       "    }\n",
       "</style>\n",
       "<table border=\"1\" class=\"dataframe\">\n",
       "  <thead>\n",
       "    <tr style=\"text-align: right;\">\n",
       "      <th></th>\n",
       "      <th>Gender</th>\n",
       "      <th>Ever_Married</th>\n",
       "      <th>Age</th>\n",
       "      <th>Graduated</th>\n",
       "      <th>Profession</th>\n",
       "      <th>Work_Experience</th>\n",
       "      <th>Spending_Score</th>\n",
       "      <th>Family_Size</th>\n",
       "      <th>Var_1</th>\n",
       "    </tr>\n",
       "  </thead>\n",
       "  <tbody>\n",
       "    <tr>\n",
       "      <th>0</th>\n",
       "      <td>Female</td>\n",
       "      <td>No</td>\n",
       "      <td>32</td>\n",
       "      <td>Yes</td>\n",
       "      <td>Healthcare</td>\n",
       "      <td>9.0</td>\n",
       "      <td>Low</td>\n",
       "      <td>3.0</td>\n",
       "      <td>Cat_6</td>\n",
       "    </tr>\n",
       "    <tr>\n",
       "      <th>1</th>\n",
       "      <td>Female</td>\n",
       "      <td>No</td>\n",
       "      <td>56</td>\n",
       "      <td>Yes</td>\n",
       "      <td>Artist</td>\n",
       "      <td>0.0</td>\n",
       "      <td>Low</td>\n",
       "      <td>1.0</td>\n",
       "      <td>Cat_6</td>\n",
       "    </tr>\n",
       "    <tr>\n",
       "      <th>2</th>\n",
       "      <td>Male</td>\n",
       "      <td>Yes</td>\n",
       "      <td>75</td>\n",
       "      <td>No</td>\n",
       "      <td>Lawyer</td>\n",
       "      <td>1.0</td>\n",
       "      <td>Low</td>\n",
       "      <td>1.0</td>\n",
       "      <td>Cat_4</td>\n",
       "    </tr>\n",
       "    <tr>\n",
       "      <th>3</th>\n",
       "      <td>Male</td>\n",
       "      <td>Yes</td>\n",
       "      <td>39</td>\n",
       "      <td>No</td>\n",
       "      <td>Entertainment</td>\n",
       "      <td>9.0</td>\n",
       "      <td>Low</td>\n",
       "      <td>2.0</td>\n",
       "      <td>Cat_3</td>\n",
       "    </tr>\n",
       "    <tr>\n",
       "      <th>4</th>\n",
       "      <td>Male</td>\n",
       "      <td>No</td>\n",
       "      <td>22</td>\n",
       "      <td>No</td>\n",
       "      <td>Healthcare</td>\n",
       "      <td>9.0</td>\n",
       "      <td>Low</td>\n",
       "      <td>5.0</td>\n",
       "      <td>Cat_4</td>\n",
       "    </tr>\n",
       "    <tr>\n",
       "      <th>...</th>\n",
       "      <td>...</td>\n",
       "      <td>...</td>\n",
       "      <td>...</td>\n",
       "      <td>...</td>\n",
       "      <td>...</td>\n",
       "      <td>...</td>\n",
       "      <td>...</td>\n",
       "      <td>...</td>\n",
       "      <td>...</td>\n",
       "    </tr>\n",
       "    <tr>\n",
       "      <th>10690</th>\n",
       "      <td>Female</td>\n",
       "      <td>No</td>\n",
       "      <td>30</td>\n",
       "      <td>Yes</td>\n",
       "      <td>Healthcare</td>\n",
       "      <td>8.0</td>\n",
       "      <td>Low</td>\n",
       "      <td>1.0</td>\n",
       "      <td>Cat_6</td>\n",
       "    </tr>\n",
       "    <tr>\n",
       "      <th>10691</th>\n",
       "      <td>Female</td>\n",
       "      <td>Yes</td>\n",
       "      <td>81</td>\n",
       "      <td>Yes</td>\n",
       "      <td>Lawyer</td>\n",
       "      <td>0.0</td>\n",
       "      <td>Average</td>\n",
       "      <td>2.0</td>\n",
       "      <td>Cat_6</td>\n",
       "    </tr>\n",
       "    <tr>\n",
       "      <th>10692</th>\n",
       "      <td>Female</td>\n",
       "      <td>No</td>\n",
       "      <td>40</td>\n",
       "      <td>Yes</td>\n",
       "      <td>Entertainment</td>\n",
       "      <td>14.0</td>\n",
       "      <td>Low</td>\n",
       "      <td>1.0</td>\n",
       "      <td>Cat_6</td>\n",
       "    </tr>\n",
       "    <tr>\n",
       "      <th>10693</th>\n",
       "      <td>Male</td>\n",
       "      <td>Yes</td>\n",
       "      <td>87</td>\n",
       "      <td>Yes</td>\n",
       "      <td>Lawyer</td>\n",
       "      <td>1.0</td>\n",
       "      <td>High</td>\n",
       "      <td>2.0</td>\n",
       "      <td>Cat_6</td>\n",
       "    </tr>\n",
       "    <tr>\n",
       "      <th>10694</th>\n",
       "      <td>Male</td>\n",
       "      <td>Yes</td>\n",
       "      <td>51</td>\n",
       "      <td>Yes</td>\n",
       "      <td>Artist</td>\n",
       "      <td>1.0</td>\n",
       "      <td>Low</td>\n",
       "      <td>2.0</td>\n",
       "      <td>Cat_7</td>\n",
       "    </tr>\n",
       "  </tbody>\n",
       "</table>\n",
       "<p>10695 rows × 9 columns</p>\n",
       "</div>"
      ],
      "text/plain": [
       "       Gender Ever_Married  Age Graduated     Profession  Work_Experience  \\\n",
       "0      Female           No   32       Yes     Healthcare              9.0   \n",
       "1      Female           No   56       Yes         Artist              0.0   \n",
       "2        Male          Yes   75        No         Lawyer              1.0   \n",
       "3        Male          Yes   39        No  Entertainment              9.0   \n",
       "4        Male           No   22        No     Healthcare              9.0   \n",
       "...       ...          ...  ...       ...            ...              ...   \n",
       "10690  Female           No   30       Yes     Healthcare              8.0   \n",
       "10691  Female          Yes   81       Yes         Lawyer              0.0   \n",
       "10692  Female           No   40       Yes  Entertainment             14.0   \n",
       "10693    Male          Yes   87       Yes         Lawyer              1.0   \n",
       "10694    Male          Yes   51       Yes         Artist              1.0   \n",
       "\n",
       "      Spending_Score  Family_Size  Var_1  \n",
       "0                Low          3.0  Cat_6  \n",
       "1                Low          1.0  Cat_6  \n",
       "2                Low          1.0  Cat_4  \n",
       "3                Low          2.0  Cat_3  \n",
       "4                Low          5.0  Cat_4  \n",
       "...              ...          ...    ...  \n",
       "10690            Low          1.0  Cat_6  \n",
       "10691        Average          2.0  Cat_6  \n",
       "10692            Low          1.0  Cat_6  \n",
       "10693           High          2.0  Cat_6  \n",
       "10694            Low          2.0  Cat_7  \n",
       "\n",
       "[10695 rows x 9 columns]"
      ]
     },
     "execution_count": 3,
     "metadata": {},
     "output_type": "execute_result"
    }
   ],
   "source": [
    "df = df.drop(columns=['Unnamed: 0'])\n",
    "df = df.drop(columns=['ID'])\n",
    "df = df.drop(columns=['Segmentation']) #because I want to Segment the data I will drop the Segmentation column too\n",
    "df"
   ]
  },
  {
   "cell_type": "code",
   "execution_count": 4,
   "id": "f08a3338",
   "metadata": {},
   "outputs": [
    {
     "data": {
      "text/plain": [
       "(10695, 9)"
      ]
     },
     "execution_count": 4,
     "metadata": {},
     "output_type": "execute_result"
    }
   ],
   "source": [
    "df.shape"
   ]
  },
  {
   "cell_type": "code",
   "execution_count": 5,
   "id": "a480a961",
   "metadata": {},
   "outputs": [
    {
     "name": "stdout",
     "output_type": "stream",
     "text": [
      "<class 'pandas.core.frame.DataFrame'>\n",
      "RangeIndex: 10695 entries, 0 to 10694\n",
      "Data columns (total 9 columns):\n",
      " #   Column           Non-Null Count  Dtype  \n",
      "---  ------           --------------  -----  \n",
      " 0   Gender           10695 non-null  object \n",
      " 1   Ever_Married     10505 non-null  object \n",
      " 2   Age              10695 non-null  int64  \n",
      " 3   Graduated        10593 non-null  object \n",
      " 4   Profession       10533 non-null  object \n",
      " 5   Work_Experience  9597 non-null   float64\n",
      " 6   Spending_Score   10695 non-null  object \n",
      " 7   Family_Size      10247 non-null  float64\n",
      " 8   Var_1            10587 non-null  object \n",
      "dtypes: float64(2), int64(1), object(6)\n",
      "memory usage: 752.1+ KB\n"
     ]
    }
   ],
   "source": [
    "df.info()"
   ]
  },
  {
   "cell_type": "markdown",
   "id": "33f0bd19",
   "metadata": {},
   "source": [
    "# Data Preprocessing"
   ]
  },
  {
   "cell_type": "markdown",
   "id": "f8206fba",
   "metadata": {},
   "source": [
    "**Handling Missing data, Checking all features and applying any updateds to improve the data**"
   ]
  },
  {
   "cell_type": "code",
   "execution_count": 6,
   "id": "c759feb3",
   "metadata": {},
   "outputs": [
    {
     "data": {
      "text/plain": [
       "Gender                0\n",
       "Ever_Married        190\n",
       "Age                   0\n",
       "Graduated           102\n",
       "Profession          162\n",
       "Work_Experience    1098\n",
       "Spending_Score        0\n",
       "Family_Size         448\n",
       "Var_1               108\n",
       "dtype: int64"
      ]
     },
     "execution_count": 6,
     "metadata": {},
     "output_type": "execute_result"
    }
   ],
   "source": [
    "df.isnull().sum()"
   ]
  },
  {
   "cell_type": "code",
   "execution_count": 7,
   "id": "9042217f",
   "metadata": {},
   "outputs": [
    {
     "data": {
      "text/plain": [
       "Ever_Married\n",
       "Yes    6163\n",
       "No     4342\n",
       "Name: count, dtype: int64"
      ]
     },
     "execution_count": 7,
     "metadata": {},
     "output_type": "execute_result"
    }
   ],
   "source": [
    "df['Ever_Married'].value_counts()"
   ]
  },
  {
   "cell_type": "code",
   "execution_count": 8,
   "id": "5bc2161d",
   "metadata": {},
   "outputs": [],
   "source": [
    "df.dropna(subset=['Ever_Married'], inplace=True)"
   ]
  },
  {
   "cell_type": "code",
   "execution_count": 9,
   "id": "809bbdc3",
   "metadata": {},
   "outputs": [
    {
     "data": {
      "text/plain": [
       "Graduated\n",
       "Yes    6479\n",
       "No     3929\n",
       "Name: count, dtype: int64"
      ]
     },
     "execution_count": 9,
     "metadata": {},
     "output_type": "execute_result"
    }
   ],
   "source": [
    "df['Graduated'].value_counts()"
   ]
  },
  {
   "cell_type": "code",
   "execution_count": 10,
   "id": "00d97206",
   "metadata": {},
   "outputs": [],
   "source": [
    "df.dropna(subset=['Graduated'], inplace=True)"
   ]
  },
  {
   "cell_type": "code",
   "execution_count": 11,
   "id": "db20709a",
   "metadata": {},
   "outputs": [
    {
     "data": {
      "text/plain": [
       "Profession\n",
       "Artist           3259\n",
       "Healthcare       1691\n",
       "Entertainment    1217\n",
       "Doctor            910\n",
       "Engineer          907\n",
       "Lawyer            817\n",
       "Executive         754\n",
       "Marketing         388\n",
       "Homemaker         317\n",
       "Name: count, dtype: int64"
      ]
     },
     "execution_count": 11,
     "metadata": {},
     "output_type": "execute_result"
    }
   ],
   "source": [
    "df['Profession'].value_counts()"
   ]
  },
  {
   "cell_type": "code",
   "execution_count": 12,
   "id": "361a146c",
   "metadata": {},
   "outputs": [],
   "source": [
    "df['Profession']= df['Profession'].fillna('Not_Working')"
   ]
  },
  {
   "cell_type": "code",
   "execution_count": 13,
   "id": "24d13780",
   "metadata": {},
   "outputs": [
    {
     "data": {
      "text/plain": [
       "Work_Experience\n",
       "1.0     3060\n",
       "0.0     3015\n",
       "9.0      599\n",
       "8.0      583\n",
       "2.0      361\n",
       "4.0      336\n",
       "3.0      328\n",
       "5.0      263\n",
       "7.0      253\n",
       "6.0      249\n",
       "14.0      65\n",
       "10.0      64\n",
       "11.0      64\n",
       "12.0      59\n",
       "13.0      56\n",
       "Name: count, dtype: int64"
      ]
     },
     "execution_count": 13,
     "metadata": {},
     "output_type": "execute_result"
    }
   ],
   "source": [
    "df['Work_Experience'].value_counts()"
   ]
  },
  {
   "cell_type": "code",
   "execution_count": 14,
   "id": "e7bdc004",
   "metadata": {},
   "outputs": [],
   "source": [
    "df['Work_Experience']= df['Work_Experience'].fillna(0)"
   ]
  },
  {
   "cell_type": "code",
   "execution_count": 15,
   "id": "858f3fdc",
   "metadata": {},
   "outputs": [
    {
     "data": {
      "text/plain": [
       "Family_Size\n",
       "2.0    3099\n",
       "1.0    1909\n",
       "3.0    1895\n",
       "4.0    1772\n",
       "5.0     781\n",
       "6.0     285\n",
       "7.0     120\n",
       "8.0      63\n",
       "9.0      58\n",
       "Name: count, dtype: int64"
      ]
     },
     "execution_count": 15,
     "metadata": {},
     "output_type": "execute_result"
    }
   ],
   "source": [
    "df['Family_Size'].value_counts()"
   ]
  },
  {
   "cell_type": "code",
   "execution_count": 16,
   "id": "242cd810",
   "metadata": {},
   "outputs": [],
   "source": [
    "df['Family_Size']= df['Family_Size'].fillna(1)"
   ]
  },
  {
   "cell_type": "code",
   "execution_count": 17,
   "id": "dc2c7ca3",
   "metadata": {},
   "outputs": [
    {
     "data": {
      "text/plain": [
       "Var_1\n",
       "Cat_6    6781\n",
       "Cat_4    1416\n",
       "Cat_3    1027\n",
       "Cat_2     541\n",
       "Cat_7     265\n",
       "Cat_1     162\n",
       "Cat_5     110\n",
       "Name: count, dtype: int64"
      ]
     },
     "execution_count": 17,
     "metadata": {},
     "output_type": "execute_result"
    }
   ],
   "source": [
    "df['Var_1'].value_counts() #Anonymised Category for the customer"
   ]
  },
  {
   "cell_type": "code",
   "execution_count": 18,
   "id": "e67ba92a",
   "metadata": {},
   "outputs": [],
   "source": [
    "df.dropna(subset=['Var_1'], inplace=True)"
   ]
  },
  {
   "cell_type": "code",
   "execution_count": 19,
   "id": "758355f1",
   "metadata": {},
   "outputs": [
    {
     "data": {
      "text/plain": [
       "Gender             0\n",
       "Ever_Married       0\n",
       "Age                0\n",
       "Graduated          0\n",
       "Profession         0\n",
       "Work_Experience    0\n",
       "Spending_Score     0\n",
       "Family_Size        0\n",
       "Var_1              0\n",
       "dtype: int64"
      ]
     },
     "execution_count": 19,
     "metadata": {},
     "output_type": "execute_result"
    }
   ],
   "source": [
    "df.isnull().sum()"
   ]
  },
  {
   "cell_type": "code",
   "execution_count": 20,
   "id": "a2ac912a",
   "metadata": {},
   "outputs": [
    {
     "data": {
      "text/plain": [
       "Gender\n",
       "Male      5651\n",
       "Female    4651\n",
       "Name: count, dtype: int64"
      ]
     },
     "execution_count": 20,
     "metadata": {},
     "output_type": "execute_result"
    }
   ],
   "source": [
    "df['Gender'].value_counts()"
   ]
  },
  {
   "cell_type": "code",
   "execution_count": 21,
   "id": "fbaef319",
   "metadata": {},
   "outputs": [
    {
     "data": {
      "text/plain": [
       "Age\n",
       "42    319\n",
       "35    309\n",
       "37    297\n",
       "43    290\n",
       "33    290\n",
       "     ... \n",
       "75     37\n",
       "76     36\n",
       "78     35\n",
       "80     32\n",
       "85     30\n",
       "Name: count, Length: 67, dtype: int64"
      ]
     },
     "execution_count": 21,
     "metadata": {},
     "output_type": "execute_result"
    }
   ],
   "source": [
    "df['Age'].value_counts()"
   ]
  },
  {
   "cell_type": "code",
   "execution_count": 22,
   "id": "f54c12e9",
   "metadata": {},
   "outputs": [
    {
     "data": {
      "text/plain": [
       "Text(0, 0.5, 'Counts')"
      ]
     },
     "execution_count": 22,
     "metadata": {},
     "output_type": "execute_result"
    },
    {
     "data": {
      "image/png": "[encoded data removed]",
      "text/plain": [
       "<Figure size 640x480 with 1 Axes>"
      ]
     },
     "metadata": {},
     "output_type": "display_data"
    }
   ],
   "source": [
    "plt.bar(df['Age'].value_counts().index, df['Age'].value_counts().values)\n",
    "plt.title('Distribution of Family Size')\n",
    "plt.xlabel('Family Size')\n",
    "plt.ylabel('Counts')"
   ]
  },
  {
   "cell_type": "code",
   "execution_count": 23,
   "id": "f7da1a11",
   "metadata": {},
   "outputs": [
    {
     "data": {
      "text/plain": [
       "Spending_Score\n",
       "Low        6279\n",
       "Average    2497\n",
       "High       1526\n",
       "Name: count, dtype: int64"
      ]
     },
     "execution_count": 23,
     "metadata": {},
     "output_type": "execute_result"
    }
   ],
   "source": [
    "df['Spending_Score'].value_counts()"
   ]
  },
  {
   "cell_type": "markdown",
   "id": "cdd90d0c",
   "metadata": {},
   "source": [
    "**The data now is good and ready to work with**"
   ]
  },
  {
   "cell_type": "code",
   "execution_count": 24,
   "id": "1860b100",
   "metadata": {},
   "outputs": [
    {
     "data": {
      "text/plain": [
       "(10302, 9)"
      ]
     },
     "execution_count": 24,
     "metadata": {},
     "output_type": "execute_result"
    }
   ],
   "source": [
    "df.shape"
   ]
  },
  {
   "cell_type": "code",
   "execution_count": 25,
   "id": "32a0c745",
   "metadata": {},
   "outputs": [
    {
     "name": "stdout",
     "output_type": "stream",
     "text": [
      "<class 'pandas.core.frame.DataFrame'>\n",
      "Index: 10302 entries, 0 to 10694\n",
      "Data columns (total 9 columns):\n",
      " #   Column           Non-Null Count  Dtype  \n",
      "---  ------           --------------  -----  \n",
      " 0   Gender           10302 non-null  object \n",
      " 1   Ever_Married     10302 non-null  object \n",
      " 2   Age              10302 non-null  int64  \n",
      " 3   Graduated        10302 non-null  object \n",
      " 4   Profession       10302 non-null  object \n",
      " 5   Work_Experience  10302 non-null  float64\n",
      " 6   Spending_Score   10302 non-null  object \n",
      " 7   Family_Size      10302 non-null  float64\n",
      " 8   Var_1            10302 non-null  object \n",
      "dtypes: float64(2), int64(1), object(6)\n",
      "memory usage: 804.8+ KB\n"
     ]
    }
   ],
   "source": [
    "df.info()"
   ]
  },
  {
   "cell_type": "code",
   "execution_count": 26,
   "id": "0ebdafe2",
   "metadata": {},
   "outputs": [],
   "source": [
    "#copy the data\n",
    "X = df.copy()"
   ]
  },
  {
   "cell_type": "markdown",
   "id": "1ef5aa5a",
   "metadata": {},
   "source": [
    "# Casting (data type conversion)"
   ]
  },
  {
   "cell_type": "code",
   "execution_count": 27,
   "id": "d5add3d6",
   "metadata": {},
   "outputs": [],
   "source": [
    "from sklearn.preprocessing import LabelEncoder\n",
    "encoder = LabelEncoder()\n",
    "objects = ['Gender','Ever_Married','Graduated','Spending_Score','Var_1','Profession']\n",
    "for i in objects:\n",
    "    X[i] = encoder.fit_transform(X[i])"
   ]
  },
  {
   "cell_type": "code",
   "execution_count": 28,
   "id": "c3179613",
   "metadata": {},
   "outputs": [
    {
     "name": "stdout",
     "output_type": "stream",
     "text": [
      "<class 'pandas.core.frame.DataFrame'>\n",
      "Index: 10302 entries, 0 to 10694\n",
      "Data columns (total 9 columns):\n",
      " #   Column           Non-Null Count  Dtype  \n",
      "---  ------           --------------  -----  \n",
      " 0   Gender           10302 non-null  int32  \n",
      " 1   Ever_Married     10302 non-null  int32  \n",
      " 2   Age              10302 non-null  int64  \n",
      " 3   Graduated        10302 non-null  int32  \n",
      " 4   Profession       10302 non-null  int32  \n",
      " 5   Work_Experience  10302 non-null  float64\n",
      " 6   Spending_Score   10302 non-null  int32  \n",
      " 7   Family_Size      10302 non-null  float64\n",
      " 8   Var_1            10302 non-null  int32  \n",
      "dtypes: float64(2), int32(6), int64(1)\n",
      "memory usage: 563.4 KB\n"
     ]
    }
   ],
   "source": [
    "X.info()"
   ]
  },
  {
   "cell_type": "markdown",
   "id": "ab3c4f18",
   "metadata": {},
   "source": [
    "# Correlcation"
   ]
  },
  {
   "cell_type": "code",
   "execution_count": 29,
   "id": "ed0b0b47",
   "metadata": {},
   "outputs": [
    {
     "data": {
      "text/html": [
       "<div>\n",
       "<style scoped>\n",
       "    .dataframe tbody tr th:only-of-type {\n",
       "        vertical-align: middle;\n",
       "    }\n",
       "\n",
       "    .dataframe tbody tr th {\n",
       "        vertical-align: top;\n",
       "    }\n",
       "\n",
       "    .dataframe thead th {\n",
       "        text-align: right;\n",
       "    }\n",
       "</style>\n",
       "<table border=\"1\" class=\"dataframe\">\n",
       "  <thead>\n",
       "    <tr style=\"text-align: right;\">\n",
       "      <th></th>\n",
       "      <th>Gender</th>\n",
       "      <th>Ever_Married</th>\n",
       "      <th>Age</th>\n",
       "      <th>Graduated</th>\n",
       "      <th>Profession</th>\n",
       "      <th>Work_Experience</th>\n",
       "      <th>Spending_Score</th>\n",
       "      <th>Family_Size</th>\n",
       "      <th>Var_1</th>\n",
       "    </tr>\n",
       "  </thead>\n",
       "  <tbody>\n",
       "    <tr>\n",
       "      <th>Gender</th>\n",
       "      <td>1.000000</td>\n",
       "      <td>0.114769</td>\n",
       "      <td>0.018881</td>\n",
       "      <td>-0.040576</td>\n",
       "      <td>0.029316</td>\n",
       "      <td>-0.054540</td>\n",
       "      <td>-0.051495</td>\n",
       "      <td>0.067632</td>\n",
       "      <td>0.025638</td>\n",
       "    </tr>\n",
       "    <tr>\n",
       "      <th>Ever_Married</th>\n",
       "      <td>0.114769</td>\n",
       "      <td>1.000000</td>\n",
       "      <td>0.568890</td>\n",
       "      <td>0.197885</td>\n",
       "      <td>-0.125142</td>\n",
       "      <td>-0.094374</td>\n",
       "      <td>-0.627553</td>\n",
       "      <td>-0.061065</td>\n",
       "      <td>0.083830</td>\n",
       "    </tr>\n",
       "    <tr>\n",
       "      <th>Age</th>\n",
       "      <td>0.018881</td>\n",
       "      <td>0.568890</td>\n",
       "      <td>1.000000</td>\n",
       "      <td>0.236667</td>\n",
       "      <td>0.046789</td>\n",
       "      <td>-0.174146</td>\n",
       "      <td>-0.272794</td>\n",
       "      <td>-0.266094</td>\n",
       "      <td>0.172432</td>\n",
       "    </tr>\n",
       "    <tr>\n",
       "      <th>Graduated</th>\n",
       "      <td>-0.040576</td>\n",
       "      <td>0.197885</td>\n",
       "      <td>0.236667</td>\n",
       "      <td>1.000000</td>\n",
       "      <td>-0.297395</td>\n",
       "      <td>0.043659</td>\n",
       "      <td>-0.149606</td>\n",
       "      <td>-0.225193</td>\n",
       "      <td>0.131241</td>\n",
       "    </tr>\n",
       "    <tr>\n",
       "      <th>Profession</th>\n",
       "      <td>0.029316</td>\n",
       "      <td>-0.125142</td>\n",
       "      <td>0.046789</td>\n",
       "      <td>-0.297395</td>\n",
       "      <td>1.000000</td>\n",
       "      <td>-0.042674</td>\n",
       "      <td>0.220092</td>\n",
       "      <td>0.068712</td>\n",
       "      <td>-0.038775</td>\n",
       "    </tr>\n",
       "    <tr>\n",
       "      <th>Work_Experience</th>\n",
       "      <td>-0.054540</td>\n",
       "      <td>-0.094374</td>\n",
       "      <td>-0.174146</td>\n",
       "      <td>0.043659</td>\n",
       "      <td>-0.042674</td>\n",
       "      <td>1.000000</td>\n",
       "      <td>0.055967</td>\n",
       "      <td>-0.060502</td>\n",
       "      <td>0.026308</td>\n",
       "    </tr>\n",
       "    <tr>\n",
       "      <th>Spending_Score</th>\n",
       "      <td>-0.051495</td>\n",
       "      <td>-0.627553</td>\n",
       "      <td>-0.272794</td>\n",
       "      <td>-0.149606</td>\n",
       "      <td>0.220092</td>\n",
       "      <td>0.055967</td>\n",
       "      <td>1.000000</td>\n",
       "      <td>-0.127055</td>\n",
       "      <td>-0.031086</td>\n",
       "    </tr>\n",
       "    <tr>\n",
       "      <th>Family_Size</th>\n",
       "      <td>0.067632</td>\n",
       "      <td>-0.061065</td>\n",
       "      <td>-0.266094</td>\n",
       "      <td>-0.225193</td>\n",
       "      <td>0.068712</td>\n",
       "      <td>-0.060502</td>\n",
       "      <td>-0.127055</td>\n",
       "      <td>1.000000</td>\n",
       "      <td>-0.139593</td>\n",
       "    </tr>\n",
       "    <tr>\n",
       "      <th>Var_1</th>\n",
       "      <td>0.025638</td>\n",
       "      <td>0.083830</td>\n",
       "      <td>0.172432</td>\n",
       "      <td>0.131241</td>\n",
       "      <td>-0.038775</td>\n",
       "      <td>0.026308</td>\n",
       "      <td>-0.031086</td>\n",
       "      <td>-0.139593</td>\n",
       "      <td>1.000000</td>\n",
       "    </tr>\n",
       "  </tbody>\n",
       "</table>\n",
       "</div>"
      ],
      "text/plain": [
       "                   Gender  Ever_Married       Age  Graduated  Profession  \\\n",
       "Gender           1.000000      0.114769  0.018881  -0.040576    0.029316   \n",
       "Ever_Married     0.114769      1.000000  0.568890   0.197885   -0.125142   \n",
       "Age              0.018881      0.568890  1.000000   0.236667    0.046789   \n",
       "Graduated       -0.040576      0.197885  0.236667   1.000000   -0.297395   \n",
       "Profession       0.029316     -0.125142  0.046789  -0.297395    1.000000   \n",
       "Work_Experience -0.054540     -0.094374 -0.174146   0.043659   -0.042674   \n",
       "Spending_Score  -0.051495     -0.627553 -0.272794  -0.149606    0.220092   \n",
       "Family_Size      0.067632     -0.061065 -0.266094  -0.225193    0.068712   \n",
       "Var_1            0.025638      0.083830  0.172432   0.131241   -0.038775   \n",
       "\n",
       "                 Work_Experience  Spending_Score  Family_Size     Var_1  \n",
       "Gender                 -0.054540       -0.051495     0.067632  0.025638  \n",
       "Ever_Married           -0.094374       -0.627553    -0.061065  0.083830  \n",
       "Age                    -0.174146       -0.272794    -0.266094  0.172432  \n",
       "Graduated               0.043659       -0.149606    -0.225193  0.131241  \n",
       "Profession             -0.042674        0.220092     0.068712 -0.038775  \n",
       "Work_Experience         1.000000        0.055967    -0.060502  0.026308  \n",
       "Spending_Score          0.055967        1.000000    -0.127055 -0.031086  \n",
       "Family_Size            -0.060502       -0.127055     1.000000 -0.139593  \n",
       "Var_1                   0.026308       -0.031086    -0.139593  1.000000  "
      ]
     },
     "execution_count": 29,
     "metadata": {},
     "output_type": "execute_result"
    }
   ],
   "source": [
    "X.corr()"
   ]
  },
  {
   "cell_type": "code",
   "execution_count": 30,
   "id": "bb06134b",
   "metadata": {},
   "outputs": [
    {
     "data": {
      "text/plain": [
       "<Axes: >"
      ]
     },
     "execution_count": 30,
     "metadata": {},
     "output_type": "execute_result"
    },
    {
     "data": {
      "image/png": "[encoded data removed]",
      "text/plain": [
       "<Figure size 1000x1000 with 2 Axes>"
      ]
     },
     "metadata": {},
     "output_type": "display_data"
    }
   ],
   "source": [
    "plt.figure(figsize=(10,10))\n",
    "sns.heatmap(X.corr(), cmap=\"PuBu\", square = True, annot=True, fmt='.2f')"
   ]
  },
  {
   "cell_type": "markdown",
   "id": "63d0330c",
   "metadata": {},
   "source": [
    "**I notice that Spending_Score and Ever_Married features are badelly correlated and it's because there's no much categories in them**"
   ]
  },
  {
   "cell_type": "markdown",
   "id": "c8475db3",
   "metadata": {},
   "source": [
    "**And noticed that is the most correlated features are Age and Ever_Married which was obvious in the plot that 50+ people are few comparing to 50- people**"
   ]
  },
  {
   "cell_type": "markdown",
   "id": "91a76258",
   "metadata": {},
   "source": [
    "# Scaling"
   ]
  },
  {
   "cell_type": "code",
   "execution_count": 31,
   "id": "92b7d980",
   "metadata": {},
   "outputs": [],
   "source": [
    "from sklearn.preprocessing import StandardScaler\n",
    "scaler = StandardScaler()\n",
    "X = scaler.fit_transform(X)"
   ]
  },
  {
   "cell_type": "markdown",
   "id": "a50b8e9a",
   "metadata": {},
   "source": [
    "# Modeling (Clustering)"
   ]
  },
  {
   "cell_type": "code",
   "execution_count": 32,
   "id": "5e1fa153",
   "metadata": {},
   "outputs": [],
   "source": [
    "from sklearn.cluster import KMeans"
   ]
  },
  {
   "cell_type": "markdown",
   "id": "108757ef",
   "metadata": {},
   "source": [
    "**I will use Elbow Curve and Silhouette score to choose number of clusters**"
   ]
  },
  {
   "cell_type": "code",
   "execution_count": 33,
   "id": "02a9f453",
   "metadata": {},
   "outputs": [
    {
     "data": {
      "image/png": "[encoded data removed]",
      "text/plain": [
       "<Figure size 640x480 with 1 Axes>"
      ]
     },
     "metadata": {},
     "output_type": "display_data"
    }
   ],
   "source": [
    "#Elbow curve\n",
    "wcss = []\n",
    "for i in range(1, 11):  # Testing from 1 to 10 clusters\n",
    "    kmeans = KMeans(n_clusters=i, init='k-means++', random_state=42,n_init='auto')\n",
    "    kmeans.fit(X)\n",
    "    wcss.append(kmeans.inertia_)\n",
    "\n",
    "# Plotting the elbow curve\n",
    "plt.plot(range(1, 11), wcss)\n",
    "plt.title('Elbow Method')\n",
    "plt.xlabel('Number of Clusters')\n",
    "plt.ylabel('WCSS')\n",
    "plt.show()\n"
   ]
  },
  {
   "cell_type": "code",
   "execution_count": null,
   "id": "e9b18ba4",
   "metadata": {},
   "outputs": [
    {
     "name": "stdout",
     "output_type": "stream",
     "text": [
      "For n_clusters=2, the silhouette score is 0.20309392669666\n",
      "For n_clusters=3, the silhouette score is 0.17126273427131677\n",
      "For n_clusters=4, the silhouette score is 0.18839203849248368\n",
      "For n_clusters=5, the silhouette score is 0.17508549042353563\n",
      "For n_clusters=6, the silhouette score is 0.16933397624123234\n",
      "For n_clusters=7, the silhouette score is 0.16616058670016268\n",
      "For n_clusters=8, the silhouette score is 0.1745914661328433\n",
      "For n_clusters=9, the silhouette score is 0.17382682684182524\n"
     ]
    }
   ],
   "source": [
    "#Silhouette score\n",
    "from sklearn.metrics import silhouette_score\n",
    "\n",
    "silhouette_scores = []\n",
    "for i in range(2, 11):  # Testing from 2 to 10 clusters\n",
    "    kmeans = KMeans(n_clusters=i, random_state=42, n_init='auto')\n",
    "    kmeans.fit(X)\n",
    "    silhouette_scores.append(silhouette_score(X, kmeans.labels_))\n",
    "    \n",
    "    cluster_labels = kmeans.labels_\n",
    "\n",
    "    silhouette_avg = silhouette_score(X, cluster_labels)\n",
    "    print(\"For n_clusters={0}, the silhouette score is {1}\".format(i, silhouette_avg))\n",
    "\n",
    "# Plotting the silhouette scores\n",
    "plt.plot(range(2, 11), silhouette_scores)\n",
    "plt.title('Silhouette Score')\n",
    "plt.xlabel('Number of Clusters')\n",
    "plt.ylabel('Silhouette Score')\n",
    "plt.show()\n",
    "\n",
    "\n"
   ]
  },
  {
   "cell_type": "markdown",
   "id": "a37103b3",
   "metadata": {},
   "source": [
    "**Choosing 4 clusters is the best**"
   ]
  },
  {
   "cell_type": "code",
   "execution_count": null,
   "id": "db1217f4",
   "metadata": {},
   "outputs": [],
   "source": [
    "k = 4 # number of clusters\n",
    "kmeans = KMeans(n_clusters=k, random_state=42,n_init='auto')\n",
    "kmeans.fit(X)"
   ]
  },
  {
   "cell_type": "code",
   "execution_count": null,
   "id": "5407f2cf",
   "metadata": {},
   "outputs": [],
   "source": [
    "train_cluster_labels = kmeans.predict(X)"
   ]
  },
  {
   "cell_type": "code",
   "execution_count": null,
   "id": "f495bb1d",
   "metadata": {},
   "outputs": [],
   "source": [
    "from sklearn.metrics import silhouette_score, davies_bouldin_score\n",
    "\n",
    "# Compute silhouette score\n",
    "silhouette = silhouette_score(X, train_cluster_labels)\n",
    "print(\"Silhouette Score:\", silhouette)\n",
    "\n",
    "# Compute Davies–Bouldin index\n",
    "davies_bouldin = davies_bouldin_score(X, train_cluster_labels)\n",
    "print(\"Davies–Bouldin Index:\", davies_bouldin)\n",
    "\n",
    "# Access Within-Cluster Sum of Squares (WCSS)\n",
    "wcss = kmeans.inertia_\n",
    "print(\"Within-Cluster Sum of Squares (WCSS):\", wcss)\n"
   ]
  },
  {
   "cell_type": "code",
   "execution_count": null,
   "id": "4d888469",
   "metadata": {},
   "outputs": [],
   "source": [
    "cluster_centers = kmeans.cluster_centers_\n",
    "cluster_centers"
   ]
  },
  {
   "cell_type": "code",
   "execution_count": null,
   "id": "ef03ef95",
   "metadata": {},
   "outputs": [],
   "source": [
    "df['Cluster_ID'] = train_cluster_labels"
   ]
  },
  {
   "cell_type": "code",
   "execution_count": null,
   "id": "0d7107c8",
   "metadata": {},
   "outputs": [],
   "source": [
    "#naming the clusters\n",
    "df['Cluster_ID'] = df['Cluster_ID'].replace([0,1,2,3], ['Cluster_1', 'Cluster_2','Cluster_3','Cluster_4',])"
   ]
  },
  {
   "cell_type": "code",
   "execution_count": null,
   "id": "b88114c2",
   "metadata": {},
   "outputs": [],
   "source": [
    "df['Cluster_ID'].value_counts()"
   ]
  },
  {
   "cell_type": "markdown",
   "id": "de581e48",
   "metadata": {},
   "source": [
    "**Visualizing the clusters**"
   ]
  },
  {
   "cell_type": "code",
   "execution_count": null,
   "id": "591ca6a6",
   "metadata": {},
   "outputs": [],
   "source": [
    "sns.pairplot(df,hue='Cluster_ID',palette='coolwarm') "
   ]
  },
  {
   "cell_type": "code",
   "execution_count": null,
   "id": "c8d48d37",
   "metadata": {},
   "outputs": [],
   "source": [
    "plt.figure(figsize=(8, 6))\n",
    "sns.scatterplot(data=df, x='Age', y='Family_Size', hue='Cluster_ID')"
   ]
  },
  {
   "cell_type": "code",
   "execution_count": null,
   "id": "9aec1a8a",
   "metadata": {},
   "outputs": [],
   "source": [
    "plt.figure(figsize=(10, 5))\n",
    "sns.boxplot(x ='Cluster_ID', y ='Age', data=df)"
   ]
  },
  {
   "cell_type": "code",
   "execution_count": null,
   "id": "d5d19a83",
   "metadata": {},
   "outputs": [],
   "source": [
    "#Cluster Centers Heatmap\n",
    "feature_names = df.drop('Cluster_ID', axis=1).columns\n",
    "\n",
    "plt.figure(figsize=(12, 6))\n",
    "sns.heatmap(cluster_centers, annot=True, cmap='viridis', fmt=\".2f\", xticklabels=feature_names)\n",
    "plt.title('Cluster Centers Heatmap')\n",
    "plt.xlabel('Feature')\n",
    "plt.ylabel('Cluster')\n",
    "plt.xticks(rotation=45)  \n",
    "plt.show()\n"
   ]
  },
  {
   "cell_type": "code",
   "execution_count": null,
   "id": "cbfd8c7b",
   "metadata": {},
   "outputs": [],
   "source": [
    "#Cluster Centers Plot\n",
    "feature_names = df.drop('Cluster_ID', axis=1).columns\n",
    "\n",
    "cluster_centers_df = pd.DataFrame(cluster_centers, columns=feature_names)\n",
    "\n",
    "plt.figure(figsize=(12, 6))\n",
    "cluster_centers_df.T.plot(kind='bar', figsize=(12, 6))\n",
    "plt.title('Cluster Centers Plot')\n",
    "plt.xlabel('Feature')\n",
    "plt.ylabel('Feature Value')\n",
    "plt.xticks(rotation=45)  \n",
    "plt.legend(title='Cluster')\n",
    "plt.tight_layout()\n",
    "plt.show()"
   ]
  },
  {
   "cell_type": "code",
   "execution_count": null,
   "id": "a739960d",
   "metadata": {},
   "outputs": [],
   "source": [
    "#predictions\n",
    "df"
   ]
  },
  {
   "cell_type": "code",
   "execution_count": null,
   "id": "7715ac42",
   "metadata": {},
   "outputs": [],
   "source": []
  }
 ],
 "metadata": {
  "kernelspec": {
   "display_name": "Python 3 (ipykernel)",
   "language": "python",
   "name": "python3"
  },
  "language_info": {
   "codemirror_mode": {
    "name": "ipython",
    "version": 3
   },
   "file_extension": ".py",
   "mimetype": "text/x-python",
   "name": "python",
   "nbconvert_exporter": "python",
   "pygments_lexer": "ipython3",
   "version": "3.11.5"
  }
 },
 "nbformat": 4,
 "nbformat_minor": 5
}
